{
 "cells": [
  {
   "cell_type": "code",
   "execution_count": 1,
   "id": "8bc26c66",
   "metadata": {},
   "outputs": [
    {
     "data": {
      "text/html": [
       "<div>\n",
       "<style scoped>\n",
       "    .dataframe tbody tr th:only-of-type {\n",
       "        vertical-align: middle;\n",
       "    }\n",
       "\n",
       "    .dataframe tbody tr th {\n",
       "        vertical-align: top;\n",
       "    }\n",
       "\n",
       "    .dataframe thead th {\n",
       "        text-align: right;\n",
       "    }\n",
       "</style>\n",
       "<table border=\"1\" class=\"dataframe\">\n",
       "  <thead>\n",
       "    <tr style=\"text-align: right;\">\n",
       "      <th></th>\n",
       "      <th>label</th>\n",
       "      <th>description</th>\n",
       "    </tr>\n",
       "  </thead>\n",
       "  <tbody>\n",
       "    <tr>\n",
       "      <th>0</th>\n",
       "      <td>Household</td>\n",
       "      <td>Paper Plane Design Framed Wall Hanging Motivat...</td>\n",
       "    </tr>\n",
       "    <tr>\n",
       "      <th>1</th>\n",
       "      <td>Household</td>\n",
       "      <td>SAF 'Floral' Framed Painting (Wood, 30 inch x ...</td>\n",
       "    </tr>\n",
       "    <tr>\n",
       "      <th>2</th>\n",
       "      <td>Household</td>\n",
       "      <td>SAF 'UV Textured Modern Art Print Framed' Pain...</td>\n",
       "    </tr>\n",
       "    <tr>\n",
       "      <th>3</th>\n",
       "      <td>Household</td>\n",
       "      <td>SAF Flower Print Framed Painting (Synthetic, 1...</td>\n",
       "    </tr>\n",
       "    <tr>\n",
       "      <th>4</th>\n",
       "      <td>Household</td>\n",
       "      <td>Incredible Gifts India Wooden Happy Birthday U...</td>\n",
       "    </tr>\n",
       "  </tbody>\n",
       "</table>\n",
       "</div>"
      ],
      "text/plain": [
       "       label                                        description\n",
       "0  Household  Paper Plane Design Framed Wall Hanging Motivat...\n",
       "1  Household  SAF 'Floral' Framed Painting (Wood, 30 inch x ...\n",
       "2  Household  SAF 'UV Textured Modern Art Print Framed' Pain...\n",
       "3  Household  SAF Flower Print Framed Painting (Synthetic, 1...\n",
       "4  Household  Incredible Gifts India Wooden Happy Birthday U..."
      ]
     },
     "execution_count": 1,
     "metadata": {},
     "output_type": "execute_result"
    }
   ],
   "source": [
    "import pandas as pd\n",
    "df=pd.read_csv('ecommerceDataset.csv',names = ['label', 'description'])\n",
    "df = df[['label', 'description']]\n",
    "df.head()"
   ]
  },
  {
   "cell_type": "code",
   "execution_count": 2,
   "id": "5957aaad",
   "metadata": {},
   "outputs": [
    {
     "data": {
      "text/plain": [
       "Household                 19313\n",
       "Books                     11820\n",
       "Electronics               10621\n",
       "Clothing & Accessories     8671\n",
       "Name: label, dtype: int64"
      ]
     },
     "execution_count": 2,
     "metadata": {},
     "output_type": "execute_result"
    }
   ],
   "source": [
    "df.label.value_counts()"
   ]
  },
  {
   "cell_type": "code",
   "execution_count": 3,
   "id": "6815388f",
   "metadata": {},
   "outputs": [],
   "source": [
    "#Imbalance in dataset\n",
    "\n",
    "min_samples = 8671 # we have these many Clothing & Accessories articles and Clothing & Accessories is our minority class\n",
    "\n",
    "\n",
    "df_household = df[df.label==\"Household\"].sample(min_samples, random_state=2022)\n",
    "df_books = df[df.label==\"Books\"].sample(min_samples, random_state=2022)\n",
    "df_electronics = df[df.label==\"Electronics\"].sample(min_samples, random_state=2022)\n",
    "df_cloth_Acc = df[df.label==\"Clothing & Accessories\"].sample(min_samples, random_state=2022)"
   ]
  },
  {
   "cell_type": "code",
   "execution_count": 4,
   "id": "a2547e35",
   "metadata": {},
   "outputs": [
    {
     "data": {
      "text/plain": [
       "Household                 8671\n",
       "Books                     8671\n",
       "Electronics               8671\n",
       "Clothing & Accessories    8671\n",
       "Name: label, dtype: int64"
      ]
     },
     "execution_count": 4,
     "metadata": {},
     "output_type": "execute_result"
    }
   ],
   "source": [
    "df_balanced = pd.concat([df_household,df_books,df_electronics,df_cloth_Acc],axis=0)\n",
    "df_balanced.label.value_counts()"
   ]
  },
  {
   "cell_type": "code",
   "execution_count": 5,
   "id": "f61b284e",
   "metadata": {},
   "outputs": [
    {
     "data": {
      "text/html": [
       "<div>\n",
       "<style scoped>\n",
       "    .dataframe tbody tr th:only-of-type {\n",
       "        vertical-align: middle;\n",
       "    }\n",
       "\n",
       "    .dataframe tbody tr th {\n",
       "        vertical-align: top;\n",
       "    }\n",
       "\n",
       "    .dataframe thead th {\n",
       "        text-align: right;\n",
       "    }\n",
       "</style>\n",
       "<table border=\"1\" class=\"dataframe\">\n",
       "  <thead>\n",
       "    <tr style=\"text-align: right;\">\n",
       "      <th></th>\n",
       "      <th>label</th>\n",
       "      <th>description</th>\n",
       "      <th>Label</th>\n",
       "    </tr>\n",
       "  </thead>\n",
       "  <tbody>\n",
       "    <tr>\n",
       "      <th>14609</th>\n",
       "      <td>Household</td>\n",
       "      <td>Whirlpool 1.5 Ton 3 Star Inverter Split AC (Al...</td>\n",
       "      <td>0</td>\n",
       "    </tr>\n",
       "    <tr>\n",
       "      <th>11256</th>\n",
       "      <td>Household</td>\n",
       "      <td>Singhal Homeware Stainless Steel Strainer - Mi...</td>\n",
       "      <td>0</td>\n",
       "    </tr>\n",
       "    <tr>\n",
       "      <th>5586</th>\n",
       "      <td>Household</td>\n",
       "      <td>Story@Home 6 Pieces 450 GSM Cotton Towel Set f...</td>\n",
       "      <td>0</td>\n",
       "    </tr>\n",
       "    <tr>\n",
       "      <th>15412</th>\n",
       "      <td>Household</td>\n",
       "      <td>Sameer 230mm Ventilation Exhaust Fan (Black) C...</td>\n",
       "      <td>0</td>\n",
       "    </tr>\n",
       "    <tr>\n",
       "      <th>14226</th>\n",
       "      <td>Household</td>\n",
       "      <td>Bosch Easy Aquatak 110 1300-Watt High Pressure...</td>\n",
       "      <td>0</td>\n",
       "    </tr>\n",
       "  </tbody>\n",
       "</table>\n",
       "</div>"
      ],
      "text/plain": [
       "           label                                        description  Label\n",
       "14609  Household  Whirlpool 1.5 Ton 3 Star Inverter Split AC (Al...      0\n",
       "11256  Household  Singhal Homeware Stainless Steel Strainer - Mi...      0\n",
       "5586   Household  Story@Home 6 Pieces 450 GSM Cotton Towel Set f...      0\n",
       "15412  Household  Sameer 230mm Ventilation Exhaust Fan (Black) C...      0\n",
       "14226  Household  Bosch Easy Aquatak 110 1300-Watt High Pressure...      0"
      ]
     },
     "execution_count": 5,
     "metadata": {},
     "output_type": "execute_result"
    }
   ],
   "source": [
    "df_balanced['Label']=df_balanced['label'].map({\n",
    "    'Household': 0,\n",
    "    'Books': 1, \n",
    "    'Electronics': 2, \n",
    "    'Clothing & Accessories': 3\n",
    "})\n",
    "df_balanced.head()\n"
   ]
  },
  {
   "cell_type": "code",
   "execution_count": 6,
   "id": "e45c0b7b",
   "metadata": {},
   "outputs": [
    {
     "data": {
      "text/plain": [
       "0    8671\n",
       "1    8671\n",
       "2    8671\n",
       "3    8671\n",
       "Name: Label, dtype: int64"
      ]
     },
     "execution_count": 6,
     "metadata": {},
     "output_type": "execute_result"
    }
   ],
   "source": [
    "df_balanced.Label.value_counts()"
   ]
  },
  {
   "cell_type": "code",
   "execution_count": 7,
   "id": "4815a51e",
   "metadata": {},
   "outputs": [],
   "source": [
    "# BECAUSE ERROR WAS SHOWN TO HAVE THE VALUES AS UNICODE TO BE FIT IN THE PIPELINE\n",
    "df_balanced.description=df_balanced.description.values.astype('U')"
   ]
  },
  {
   "cell_type": "code",
   "execution_count": 8,
   "id": "0c9f28c7",
   "metadata": {},
   "outputs": [],
   "source": [
    "from sklearn.model_selection import train_test_split\n",
    "\n",
    "X_train, X_test, y_train, y_test = train_test_split(\n",
    "    df_balanced.description, \n",
    "    df_balanced.Label, \n",
    "    test_size=0.2, # 20% samples will go to test dataset\n",
    "    random_state=2022,\n",
    "    stratify=df_balanced.Label\n",
    ")"
   ]
  },
  {
   "cell_type": "code",
   "execution_count": 9,
   "id": "357cac9d",
   "metadata": {},
   "outputs": [],
   "source": [
    "from sklearn.pipeline import Pipeline\n",
    "from sklearn.feature_extraction.text import TfidfVectorizer\n",
    "from sklearn.neighbors import KNeighborsClassifier\n",
    "from sklearn.metrics import classification_report"
   ]
  },
  {
   "cell_type": "code",
   "execution_count": 10,
   "id": "44ce6f42",
   "metadata": {},
   "outputs": [
    {
     "name": "stdout",
     "output_type": "stream",
     "text": [
      "              precision    recall  f1-score   support\n",
      "\n",
      "           0       0.94      0.95      0.94      1734\n",
      "           1       0.96      0.95      0.96      1735\n",
      "           2       0.96      0.95      0.96      1734\n",
      "           3       0.97      0.98      0.98      1734\n",
      "\n",
      "    accuracy                           0.96      6937\n",
      "   macro avg       0.96      0.96      0.96      6937\n",
      "weighted avg       0.96      0.96      0.96      6937\n",
      "\n"
     ]
    }
   ],
   "source": [
    "#USING KNN CLASSIFIER\n",
    "clf = Pipeline([\n",
    "     ('vectorizer_tfidf',TfidfVectorizer()),    \n",
    "     ('KNN', KNeighborsClassifier())         \n",
    "])\n",
    "\n",
    "#2. fit with X_train and y_train\n",
    "clf.fit(X_train, y_train)\n",
    "\n",
    "#3. get the predictions for X_test and store it in y_pred\n",
    "y_pred = clf.predict(X_test)\n",
    "\n",
    "\n",
    "#4. print the classfication report\n",
    "print(classification_report(y_test, y_pred))"
   ]
  },
  {
   "cell_type": "code",
   "execution_count": 11,
   "id": "986e80ca",
   "metadata": {},
   "outputs": [
    {
     "name": "stdout",
     "output_type": "stream",
     "text": [
      "              precision    recall  f1-score   support\n",
      "\n",
      "           0       0.94      0.95      0.94      1734\n",
      "           1       0.97      0.97      0.97      1735\n",
      "           2       0.97      0.95      0.96      1734\n",
      "           3       0.97      0.98      0.98      1734\n",
      "\n",
      "    accuracy                           0.96      6937\n",
      "   macro avg       0.96      0.96      0.96      6937\n",
      "weighted avg       0.96      0.96      0.96      6937\n",
      "\n"
     ]
    }
   ],
   "source": [
    "#USING RANDOM FOREST CLASSIFIER\n",
    "\n",
    "\n",
    "from sklearn.ensemble import RandomForestClassifier\n",
    "\n",
    "clf = Pipeline([\n",
    "     ('vectorizer_tfidf',TfidfVectorizer()),    \n",
    "     ('random_forest', (RandomForestClassifier()))         \n",
    "])\n",
    "\n",
    "# fit with X_train and y_train\n",
    "clf.fit(X_train, y_train)\n",
    "\n",
    "# get the predictions for X_test and store it in y_pred\n",
    "y_pred = clf.predict(X_test)\n",
    "\n",
    "\n",
    "# print the classfication report\n",
    "print(classification_report(y_test, y_pred))"
   ]
  },
  {
   "cell_type": "code",
   "execution_count": 12,
   "id": "64539a34",
   "metadata": {},
   "outputs": [
    {
     "data": {
      "text/plain": [
       "Text(69.0, 0.5, 'Truth')"
      ]
     },
     "execution_count": 12,
     "metadata": {},
     "output_type": "execute_result"
    },
    {
     "data": {
      "image/png": "[encoded data removed]",
      "text/plain": [
       "<Figure size 720x504 with 2 Axes>"
      ]
     },
     "metadata": {
      "needs_background": "light"
     },
     "output_type": "display_data"
    }
   ],
   "source": [
    "#PRINTING CONFUSION MATRIX\n",
    "from sklearn.metrics import confusion_matrix\n",
    "cm = confusion_matrix(y_test, y_pred)\n",
    "cm\n",
    "\n",
    "\n",
    "from matplotlib import pyplot as plt\n",
    "import seaborn as sn\n",
    "plt.figure(figsize = (10,7))\n",
    "sn.heatmap(cm, annot=True, fmt='d')\n",
    "plt.xlabel('Prediction')\n",
    "plt.ylabel('Truth')"
   ]
  },
  {
   "cell_type": "code",
   "execution_count": 13,
   "id": "74b3d8e9",
   "metadata": {},
   "outputs": [],
   "source": [
    "# NOW BY PREPROCESSING THE TEXT IN DESCRIPTION\n",
    "### utlity function for pre-processing the text\n",
    "import spacy\n",
    "\n",
    "# load english language model and create nlp object from it\n",
    "nlp = spacy.load(\"en_core_web_sm\") \n",
    "\n",
    "def preprocess(text):\n",
    "    # remove stop words and lemmatize the text\n",
    "    doc = nlp(text)\n",
    "    filtered_tokens = []\n",
    "    for token in doc:\n",
    "        if token.is_stop or token.is_punct:\n",
    "            continue\n",
    "        filtered_tokens.append(token.lemma_)\n",
    "    \n",
    "    return \" \".join(filtered_tokens) "
   ]
  },
  {
   "cell_type": "code",
   "execution_count": 14,
   "id": "b96057d5",
   "metadata": {},
   "outputs": [],
   "source": [
    "df_balanced['preprocessed_txt'] = df_balanced['description'].apply(preprocess)"
   ]
  },
  {
   "cell_type": "code",
   "execution_count": 15,
   "id": "ebe1fe77",
   "metadata": {
    "scrolled": true
   },
   "outputs": [
    {
     "data": {
      "text/html": [
       "<div>\n",
       "<style scoped>\n",
       "    .dataframe tbody tr th:only-of-type {\n",
       "        vertical-align: middle;\n",
       "    }\n",
       "\n",
       "    .dataframe tbody tr th {\n",
       "        vertical-align: top;\n",
       "    }\n",
       "\n",
       "    .dataframe thead th {\n",
       "        text-align: right;\n",
       "    }\n",
       "</style>\n",
       "<table border=\"1\" class=\"dataframe\">\n",
       "  <thead>\n",
       "    <tr style=\"text-align: right;\">\n",
       "      <th></th>\n",
       "      <th>label</th>\n",
       "      <th>description</th>\n",
       "      <th>Label</th>\n",
       "      <th>preprocessed_txt</th>\n",
       "    </tr>\n",
       "  </thead>\n",
       "  <tbody>\n",
       "    <tr>\n",
       "      <th>14609</th>\n",
       "      <td>Household</td>\n",
       "      <td>Whirlpool 1.5 Ton 3 Star Inverter Split AC (Al...</td>\n",
       "      <td>0</td>\n",
       "      <td>whirlpool 1.5 Ton 3 Star Inverter Split AC Alu...</td>\n",
       "    </tr>\n",
       "    <tr>\n",
       "      <th>11256</th>\n",
       "      <td>Household</td>\n",
       "      <td>Singhal Homeware Stainless Steel Strainer - Mi...</td>\n",
       "      <td>0</td>\n",
       "      <td>Singhal Homeware Stainless Steel Strainer Micr...</td>\n",
       "    </tr>\n",
       "    <tr>\n",
       "      <th>5586</th>\n",
       "      <td>Household</td>\n",
       "      <td>Story@Home 6 Pieces 450 GSM Cotton Towel Set f...</td>\n",
       "      <td>0</td>\n",
       "      <td>Story@Home 6 Pieces 450 GSM Cotton Towel Set C...</td>\n",
       "    </tr>\n",
       "    <tr>\n",
       "      <th>15412</th>\n",
       "      <td>Household</td>\n",
       "      <td>Sameer 230mm Ventilation Exhaust Fan (Black) C...</td>\n",
       "      <td>0</td>\n",
       "      <td>Sameer 230 mm Ventilation Exhaust Fan Black Co...</td>\n",
       "    </tr>\n",
       "    <tr>\n",
       "      <th>14226</th>\n",
       "      <td>Household</td>\n",
       "      <td>Bosch Easy Aquatak 110 1300-Watt High Pressure...</td>\n",
       "      <td>0</td>\n",
       "      <td>Bosch Easy Aquatak 110 1300 Watt High Pressure...</td>\n",
       "    </tr>\n",
       "  </tbody>\n",
       "</table>\n",
       "</div>"
      ],
      "text/plain": [
       "           label                                        description  Label  \\\n",
       "14609  Household  Whirlpool 1.5 Ton 3 Star Inverter Split AC (Al...      0   \n",
       "11256  Household  Singhal Homeware Stainless Steel Strainer - Mi...      0   \n",
       "5586   Household  Story@Home 6 Pieces 450 GSM Cotton Towel Set f...      0   \n",
       "15412  Household  Sameer 230mm Ventilation Exhaust Fan (Black) C...      0   \n",
       "14226  Household  Bosch Easy Aquatak 110 1300-Watt High Pressure...      0   \n",
       "\n",
       "                                        preprocessed_txt  \n",
       "14609  whirlpool 1.5 Ton 3 Star Inverter Split AC Alu...  \n",
       "11256  Singhal Homeware Stainless Steel Strainer Micr...  \n",
       "5586   Story@Home 6 Pieces 450 GSM Cotton Towel Set C...  \n",
       "15412  Sameer 230 mm Ventilation Exhaust Fan Black Co...  \n",
       "14226  Bosch Easy Aquatak 110 1300 Watt High Pressure...  "
      ]
     },
     "execution_count": 15,
     "metadata": {},
     "output_type": "execute_result"
    }
   ],
   "source": [
    "df_balanced.head( )"
   ]
  },
  {
   "cell_type": "code",
   "execution_count": 16,
   "id": "e6ffb795",
   "metadata": {},
   "outputs": [],
   "source": [
    "# SPLITTING PREPROCESSED DATASET\n",
    "X_train2, X_test2, y_train2, y_test2 = train_test_split(\n",
    "    df_balanced.preprocessed_txt, \n",
    "    df_balanced.Label, \n",
    "    test_size=0.2, # 20% samples will go to test dataset\n",
    "    random_state=2022,\n",
    "    stratify=df_balanced.Label\n",
    ")"
   ]
  },
  {
   "cell_type": "code",
   "execution_count": 18,
   "id": "a2a12e7a",
   "metadata": {},
   "outputs": [
    {
     "name": "stdout",
     "output_type": "stream",
     "text": [
      "              precision    recall  f1-score   support\n",
      "\n",
      "           0       0.95      0.95      0.95      1734\n",
      "           1       0.97      0.97      0.97      1735\n",
      "           2       0.97      0.96      0.96      1734\n",
      "           3       0.98      0.98      0.98      1734\n",
      "\n",
      "    accuracy                           0.96      6937\n",
      "   macro avg       0.96      0.96      0.96      6937\n",
      "weighted avg       0.96      0.96      0.96      6937\n",
      "\n"
     ]
    }
   ],
   "source": [
    "#PASSNG PREPROCESSED DATASET INTO THE RANDOMFOREST PIPELINE\n",
    "\n",
    "\n",
    "# fit with X_train2 and y_train2\n",
    "clf.fit(X_train2, y_train2)\n",
    "\n",
    "#get the predictions for X_test2 and store it in y_pred2\n",
    "y_pred2 = clf.predict(X_test2)\n",
    "\n",
    "\n",
    "#print the classfication report\n",
    "print(classification_report(y_test2, y_pred2))"
   ]
  },
  {
   "cell_type": "code",
   "execution_count": 20,
   "id": "c553c70d",
   "metadata": {},
   "outputs": [
    {
     "data": {
      "text/plain": [
       "Text(69.0, 0.5, 'Truth')"
      ]
     },
     "execution_count": 20,
     "metadata": {},
     "output_type": "execute_result"
    },
    {
     "data": {
      "image/png": "[encoded data removed]",
      "text/plain": [
       "<Figure size 720x504 with 2 Axes>"
      ]
     },
     "metadata": {
      "needs_background": "light"
     },
     "output_type": "display_data"
    }
   ],
   "source": [
    "#PRINTING CONFUSION MATRIX\n",
    "cm2 = confusion_matrix(y_test2, y_pred2)\n",
    "cm2\n",
    "plt.figure(figsize = (10,7))\n",
    "sn.heatmap(cm2, annot=True, fmt='d')\n",
    "plt.xlabel('Prediction')\n",
    "plt.ylabel('Truth')"
   ]
  },
  {
   "cell_type": "code",
   "execution_count": null,
   "id": "28701f13",
   "metadata": {},
   "outputs": [],
   "source": []
  }
 ],
 "metadata": {
  "kernelspec": {
   "display_name": "Python 3 (ipykernel)",
   "language": "python",
   "name": "python3"
  },
  "language_info": {
   "codemirror_mode": {
    "name": "ipython",
    "version": 3
   },
   "file_extension": ".py",
   "mimetype": "text/x-python",
   "name": "python",
   "nbconvert_exporter": "python",
   "pygments_lexer": "ipython3",
   "version": "3.9.12"
  }
 },
 "nbformat": 4,
 "nbformat_minor": 5
}
